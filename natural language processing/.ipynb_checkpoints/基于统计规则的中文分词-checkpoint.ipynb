{
 "cells": [
  {
   "cell_type": "markdown",
   "metadata": {},
   "source": [
    "## 基于统计规则的中文分词\n",
    "      基于统计的分词：利用这个统计规则来反应字与字成词的可信度。当字连续组合的概率高过一个临界值时，就认为该组合构成了一个词语。\n",
    "#### 知识点\n",
    "- 语言模型\n",
    "- 隐马可夫模型\n",
    "- veterbi 算法\n",
    "- 中文分词工具\n",
    "\n",
    "**通常步骤：**      \n",
    "   - 1、建立统计语言模型\n",
    "   - 2、对句子进行单词划分，然后对划分结果进行概率计算，获得概率最大的分词方式；（此处会用到 统计学习算法：隐马可夫，条件随机场等）"
   ]
  },
  {
   "cell_type": "markdown",
   "metadata": {},
   "source": []
  },
  {
   "cell_type": "code",
   "execution_count": null,
   "metadata": {},
   "outputs": [],
   "source": []
  }
 ],
 "metadata": {
  "kernelspec": {
   "display_name": "Python 3",
   "language": "python",
   "name": "python3"
  },
  "language_info": {
   "codemirror_mode": {
    "name": "ipython",
    "version": 3
   },
   "file_extension": ".py",
   "mimetype": "text/x-python",
   "name": "python",
   "nbconvert_exporter": "python",
   "pygments_lexer": "ipython3",
   "version": "3.7.1"
  }
 },
 "nbformat": 4,
 "nbformat_minor": 2
}
