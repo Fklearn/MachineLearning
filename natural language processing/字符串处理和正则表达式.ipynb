{
 "cells": [
  {
   "cell_type": "code",
   "execution_count": 1,
   "metadata": {},
   "outputs": [
    {
     "name": "stdout",
     "output_type": "stream",
     "text": [
      "欢迎关注乔克叔叔杂货店微信公众号!\n",
      "   欢迎关注乔克叔叔杂货店微信公众号!   \n",
      "关注乔克叔叔杂货店微信公众号\n"
     ]
    }
   ],
   "source": [
    "seq = '   欢迎关注乔克叔叔杂货店微信公众号!   '\n",
    "print(seq.strip())\n",
    "print(seq.strip('!'))\n",
    "print(seq.strip(' 欢迎!​'))"
   ]
  },
  {
   "cell_type": "code",
   "execution_count": 4,
   "metadata": {},
   "outputs": [
    {
     "name": "stdout",
     "output_type": "stream",
     "text": [
      "23454321\n"
     ]
    }
   ],
   "source": [
    "seq = '123454321'\n",
    "print(seq.lstrip('1'))"
   ]
  },
  {
   "cell_type": "code",
   "execution_count": 6,
   "metadata": {},
   "outputs": [
    {
     "name": "stdout",
     "output_type": "stream",
     "text": [
      "12345432\n",
      "1234543\n"
     ]
    }
   ],
   "source": [
    "seq = '123454321'\n",
    "print(seq.rstrip('1'))\n",
    "print(seq.rstrip('21'))"
   ]
  },
  {
   "cell_type": "code",
   "execution_count": 7,
   "metadata": {},
   "outputs": [
    {
     "name": "stdout",
     "output_type": "stream",
     "text": [
      "欢迎关注乔克叔叔杂货店微信公众号\n"
     ]
    }
   ],
   "source": [
    "seq1 = ''\n",
    "seq = ['欢迎关注','乔克叔叔杂货店','微信公众号']\n",
    "for m in seq:\n",
    "  seq1 = seq1+m\n",
    "print(seq1)"
   ]
  },
  {
   "cell_type": "code",
   "execution_count": 9,
   "metadata": {},
   "outputs": [
    {
     "name": "stdout",
     "output_type": "stream",
     "text": [
      "欢迎关注乔克叔叔杂货店微信公众号\n",
      "欢-迎-关-注-乔-克-叔-叔-杂-货-店-微-信-公-众-号\n"
     ]
    }
   ],
   "source": [
    "seq = ['欢迎关注','乔克叔叔杂货店','微信公众号']\n",
    "seq = ''.join(seq)\n",
    "print(seq)\n",
    "seq = '-'.join(seq)\n",
    "print(seq)"
   ]
  },
  {
   "cell_type": "code",
   "execution_count": 10,
   "metadata": {},
   "outputs": [
    {
     "data": {
      "text/plain": [
       "True"
      ]
     },
     "execution_count": 10,
     "metadata": {},
     "output_type": "execute_result"
    }
   ],
   "source": [
    "import operator\n",
    "seq1 = '字符串1号'\n",
    "seq2 = '字符串2号'\n",
    "operator.lt(seq1, seq2)"
   ]
  },
  {
   "cell_type": "code",
   "execution_count": 11,
   "metadata": {},
   "outputs": [
    {
     "name": "stdout",
     "output_type": "stream",
     "text": [
      "True\n",
      "True\n",
      "False\n",
      "True\n",
      "False\n",
      "False\n"
     ]
    }
   ],
   "source": [
    "a = '乔克叔叔杂货店微信公众号1'\n",
    "b = '乔克叔叔杂货店微信公众号2'\n",
    "# 判断 a < b \n",
    "print(a<b)\n",
    "# 判断 a <= b\n",
    "print(a<=b)\n",
    "# 判断 a == b\n",
    "print(a==b)\n",
    "# 判断 a != b\n",
    "print(a!=b)\n",
    "# 判断 a > b\n",
    "print(a>b)\n",
    "# 判断 a >= b\n",
    "print(a>=b)"
   ]
  },
  {
   "cell_type": "code",
   "execution_count": 13,
   "metadata": {},
   "outputs": [
    {
     "name": "stdout",
     "output_type": "stream",
     "text": [
      "True\n",
      "True\n",
      "False\n",
      "True\n",
      "False\n",
      "False\n"
     ]
    }
   ],
   "source": [
    "import operator\n",
    "a = '乔克叔叔杂货店微信公众号1'\n",
    "b = '乔克叔叔杂货店微信公众号2'\n",
    "# 判断 a < b \n",
    "print(operator.lt(a,b))\n",
    "# 判断 a <= b\n",
    "print(operator.le(a,b))\n",
    "# 判断 a == b\n",
    "print(operator.eq(a,b))\n",
    "# 判断 a != b\n",
    "print(operator.ne(a,b))\n",
    "# 判断 a > b\n",
    "print(operator.gt(a,b))\n",
    "# 判断 a >= b\n",
    "print(operator.ge(a,b))"
   ]
  },
  {
   "cell_type": "code",
   "execution_count": 14,
   "metadata": {},
   "outputs": [
    {
     "name": "stdout",
     "output_type": "stream",
     "text": [
      "OCEANEYES\n"
     ]
    }
   ],
   "source": [
    "a = 'oceaneyeS'\n",
    "a = a.upper()\n",
    "print(a)"
   ]
  },
  {
   "cell_type": "code",
   "execution_count": 15,
   "metadata": {},
   "outputs": [
    {
     "name": "stdout",
     "output_type": "stream",
     "text": [
      "oceaneyes\n"
     ]
    }
   ],
   "source": [
    "a = 'OCEANEYEs'\n",
    "a = a.lower()\n",
    "print(a)"
   ]
  },
  {
   "cell_type": "code",
   "execution_count": 16,
   "metadata": {},
   "outputs": [
    {
     "name": "stdout",
     "output_type": "stream",
     "text": [
      "4\n"
     ]
    }
   ],
   "source": [
    "a = '欢迎关注乔克叔叔杂货店微信公众号!'\n",
    "b = '乔克叔叔'\n",
    "print(a.find(b))"
   ]
  },
  {
   "cell_type": "code",
   "execution_count": 17,
   "metadata": {},
   "outputs": [
    {
     "name": "stdout",
     "output_type": "stream",
     "text": [
      "4\n"
     ]
    }
   ],
   "source": [
    "a = '欢迎关注乔克叔叔杂货店微信公众号!'\n",
    "b = '乔克叔叔'\n",
    "print(a.index(b))"
   ]
  },
  {
   "cell_type": "code",
   "execution_count": 21,
   "metadata": {},
   "outputs": [
    {
     "name": "stdout",
     "output_type": "stream",
     "text": [
      "欢迎关注\n",
      "欢\n",
      "乔克叔叔杂货店\n"
     ]
    }
   ],
   "source": [
    "a = '欢迎关注乔克叔叔杂货店微信公众号!'\n",
    "b = a[0:4]\n",
    "print(b)\n",
    "c = a[0]\n",
    "print(c)\n",
    "\n",
    "d = a[4:11]\n",
    "print(d)"
   ]
  },
  {
   "cell_type": "code",
   "execution_count": 22,
   "metadata": {},
   "outputs": [
    {
     "name": "stdout",
     "output_type": "stream",
     "text": [
      "['欢迎关注，乔克叔叔杂货店，微信公众号']\n"
     ]
    }
   ],
   "source": [
    "a = '欢迎关注，乔克叔叔杂货店，微信公众号'\n",
    "b = a.split(',')\n",
    "print(b)"
   ]
  },
  {
   "cell_type": "code",
   "execution_count": 23,
   "metadata": {},
   "outputs": [
    {
     "name": "stdout",
     "output_type": "stream",
     "text": [
      "['2019', '05', '01']\n"
     ]
    }
   ],
   "source": [
    "c = '2019-05-01'\n",
    "d = c.split('-')\n",
    "print(d)"
   ]
  },
  {
   "cell_type": "code",
   "execution_count": 24,
   "metadata": {},
   "outputs": [
    {
     "name": "stdout",
     "output_type": "stream",
     "text": [
      "号众公信微店货杂叔叔克乔注关迎欢\n"
     ]
    }
   ],
   "source": [
    "a = '欢迎关注乔克叔叔杂货店微信公众号'\n",
    "b = a[::-1]\n",
    "print(b)"
   ]
  },
  {
   "cell_type": "code",
   "execution_count": 25,
   "metadata": {},
   "outputs": [
    {
     "name": "stdout",
     "output_type": "stream",
     "text": [
      "True\n"
     ]
    }
   ],
   "source": [
    "a = '欢迎关注乔克叔叔杂货店微信公众号'\n",
    "print('乔克' in a)"
   ]
  },
  {
   "cell_type": "code",
   "execution_count": 27,
   "metadata": {},
   "outputs": [
    {
     "name": "stdout",
     "output_type": "stream",
     "text": [
      "2019/05/01\n"
     ]
    }
   ],
   "source": [
    "a = '2019-05-01'\n",
    "b = a.replace('-','/')\n",
    "print(b)"
   ]
  },
  {
   "cell_type": "code",
   "execution_count": 31,
   "metadata": {},
   "outputs": [
    {
     "name": "stdout",
     "output_type": "stream",
     "text": [
      "True\n"
     ]
    }
   ],
   "source": [
    "a = '欢迎关注乔克叔叔杂货店微信公众号'\n",
    "print(a.endswith('公众号'))"
   ]
  },
  {
   "cell_type": "code",
   "execution_count": 32,
   "metadata": {},
   "outputs": [
    {
     "name": "stdout",
     "output_type": "stream",
     "text": [
      "False\n"
     ]
    }
   ],
   "source": [
    "a = 'ocenaeyes123'\n",
    "print(a.isdigit())"
   ]
  },
  {
   "cell_type": "code",
   "execution_count": 43,
   "metadata": {},
   "outputs": [
    {
     "name": "stdout",
     "output_type": "stream",
     "text": [
      "(0, 4)\n",
      "None\n"
     ]
    }
   ],
   "source": [
    "print(re.match('blog', 'blog.oceaneyes.cn').span())  # 在起始位置匹配\n",
    "print(re.match('cn', 'blog.oceaneyes.cn'))         # 不在起始位置匹配"
   ]
  },
  {
   "cell_type": "code",
   "execution_count": 42,
   "metadata": {},
   "outputs": [
    {
     "name": "stdout",
     "output_type": "stream",
     "text": [
      "matchA.group(): 欢迎关注乔克叔叔杂货店微信公众号！\n"
     ]
    }
   ],
   "source": [
    "import re\n",
    "a = '欢迎关注乔克叔叔杂货店微信公众号！'\n",
    "matchA = re.match(r'[\\S]+',a)\n",
    "print(matchA)\n",
    "\n",
    "if matchA:\n",
    "  print('matchA.group():',matchA.group())\n",
    "else:\n",
    "  print('No match')"
   ]
  },
  {
   "cell_type": "code",
   "execution_count": 39,
   "metadata": {},
   "outputs": [
    {
     "name": "stdout",
     "output_type": "stream",
     "text": [
      "searchA.group(): 欢迎关注乔克叔叔杂货店微信公众号！\n"
     ]
    }
   ],
   "source": [
    "a = '欢迎关注乔克叔叔杂货店微信公众号！'\n",
    "searchA = re.search(r'[\\S]+',a)\n",
    "if searchA:\n",
    "  print('searchA.group():',searchA.group()) \n",
    "else:\n",
    "  print('No search')"
   ]
  },
  {
   "cell_type": "code",
   "execution_count": 41,
   "metadata": {},
   "outputs": [
    {
     "name": "stdout",
     "output_type": "stream",
     "text": [
      "(0, 4)\n",
      "(15, 17)\n"
     ]
    }
   ],
   "source": [
    "print(re.search('blog', 'blog.oceaneyes.cn').span())  # 在起始位置匹配\n",
    "print(re.search('cn', 'blog.oceaneyes.cn').span())         # 不在起始位置匹配"
   ]
  },
  {
   "cell_type": "code",
   "execution_count": 45,
   "metadata": {},
   "outputs": [
    {
     "name": "stdout",
     "output_type": "stream",
     "text": [
      "欢迎关注-乔克叔叔杂货店-微信公众号\n"
     ]
    }
   ],
   "source": [
    "a = '欢迎关注-乔克叔叔杂货店-微信公众号！'\n",
    "# 删除注释\n",
    "b = re.sub(r'[！]$',\"\",a)\n",
    "print(b)"
   ]
  },
  {
   "cell_type": "code",
   "execution_count": 46,
   "metadata": {},
   "outputs": [
    {
     "name": "stdout",
     "output_type": "stream",
     "text": [
      "欢迎关注乔克叔叔杂货店微信公众号！\n"
     ]
    }
   ],
   "source": [
    "c = re.sub(r'-',\"\",a)\n",
    "print(c)"
   ]
  },
  {
   "cell_type": "code",
   "execution_count": 48,
   "metadata": {},
   "outputs": [
    {
     "name": "stdout",
     "output_type": "stream",
     "text": [
      "None\n"
     ]
    }
   ],
   "source": [
    "a = 'ocean1234eyes5678gzy90'\n",
    "pattern = re.compile(r'\\d+')   # 用于匹配至少一个数字\n",
    "res= pattern.match(a)\n",
    "print(res)"
   ]
  },
  {
   "cell_type": "code",
   "execution_count": 49,
   "metadata": {},
   "outputs": [
    {
     "name": "stdout",
     "output_type": "stream",
     "text": [
      "None\n",
      "<re.Match object; span=(5, 9), match='1234'>\n"
     ]
    }
   ],
   "source": [
    "\n",
    "res = pattern.match(a,4,10)     # 从n的位置开始匹配，没有匹配到\n",
    "print(res)\n",
    "res = pattern.match(a,5,10)    # 从1的位置开始匹配，匹配到第10个元素​\n",
    "print(res)"
   ]
  },
  {
   "cell_type": "code",
   "execution_count": 50,
   "metadata": {},
   "outputs": [
    {
     "name": "stdout",
     "output_type": "stream",
     "text": [
      "1234\n"
     ]
    }
   ],
   "source": [
    "print(res.group())"
   ]
  },
  {
   "cell_type": "code",
   "execution_count": 52,
   "metadata": {},
   "outputs": [
    {
     "name": "stdout",
     "output_type": "stream",
     "text": [
      "['323424', '1234556']\n",
      "['12344', '768589']\n"
     ]
    }
   ],
   "source": [
    "\n",
    "# 找出字符串中的所有数字\n",
    "a = '乔克叔叔323424杂货店1234556789'\n",
    "b = '乔克叔叔     12344   ocean  eyes 768589'\n",
    "pattern = re.compile(r'\\d+')  # 查找数字\n",
    "res1 = pattern.findall(a,0,20)\n",
    "print(res1)\n",
    "res2 = pattern.findall(b)\n",
    "print(res2)"
   ]
  },
  {
   "cell_type": "code",
   "execution_count": 53,
   "metadata": {},
   "outputs": [
    {
     "name": "stdout",
     "output_type": "stream",
     "text": [
      "323424\n",
      "1234556789\n"
     ]
    }
   ],
   "source": [
    "import re\n",
    "a = re.finditer(r'\\d+','乔克叔叔323424杂货店1234556789')\n",
    "for match in a:\n",
    "    print(match.group())"
   ]
  },
  {
   "cell_type": "code",
   "execution_count": 54,
   "metadata": {},
   "outputs": [
    {
     "name": "stdout",
     "output_type": "stream",
     "text": [
      "['blog', 'oceaneyes', 'cn']\n"
     ]
    }
   ],
   "source": [
    "import re\n",
    "a = 'blog.oceaneyes.cn'\n",
    "b = re.split(r'\\W+',a)\n",
    "print(b)"
   ]
  },
  {
   "cell_type": "code",
   "execution_count": 57,
   "metadata": {},
   "outputs": [
    {
     "name": "stdout",
     "output_type": "stream",
     "text": [
      "['', 'h', 'e', 'l', 'l', 'o', ' ', 'w', 'o', 'r', 'l', 'd', '']\n"
     ]
    }
   ],
   "source": [
    "# 对于一个找不到匹配的字符串而言，split 不会对其作出分割\n",
    "c = re.split(r'a*', 'hello world') \n",
    "print(c)"
   ]
  },
  {
   "cell_type": "code",
   "execution_count": null,
   "metadata": {},
   "outputs": [],
   "source": []
  }
 ],
 "metadata": {
  "kernelspec": {
   "display_name": "Python 3",
   "language": "python",
   "name": "python3"
  },
  "language_info": {
   "codemirror_mode": {
    "name": "ipython",
    "version": 3
   },
   "file_extension": ".py",
   "mimetype": "text/x-python",
   "name": "python",
   "nbconvert_exporter": "python",
   "pygments_lexer": "ipython3",
   "version": "3.7.1"
  }
 },
 "nbformat": 4,
 "nbformat_minor": 2
}
